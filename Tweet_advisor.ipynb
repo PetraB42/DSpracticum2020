{
  "nbformat": 4,
  "nbformat_minor": 0,
  "metadata": {
    "colab": {
      "name": "Tweet_advisor.ipynb",
      "provenance": [],
      "collapsed_sections": [],
      "include_colab_link": true
    },
    "kernelspec": {
      "display_name": "Python 3",
      "language": "python",
      "name": "python3"
    },
    "accelerator": "GPU"
  },
  "cells": [
    {
      "cell_type": "markdown",
      "metadata": {
        "id": "view-in-github",
        "colab_type": "text"
      },
      "source": [
        "<a href=\"https://colab.research.google.com/github/PetraB42/DSpracticum2020/blob/main/Tweet_advisor.ipynb\" target=\"_parent\"><img src=\"https://colab.research.google.com/assets/colab-badge.svg\" alt=\"Open In Colab\"/></a>"
      ]
    },
    {
      "cell_type": "markdown",
      "metadata": {
        "id": "lHa0OUbuBh0q"
      },
      "source": [
        "used surces: tensorflow.org/recommenders/examples/quickstart"
      ]
    },
    {
      "cell_type": "markdown",
      "metadata": {
        "id": "qA00wBE2Ntdm"
      },
      "source": [
        "### Import TFRS\n",
        "\n",
        "First, install and import TFRS:"
      ]
    },
    {
      "cell_type": "code",
      "metadata": {
        "id": "6yzAaM85Z12D"
      },
      "source": [
        "!pip install -q tensorflow-recommenders\n",
        "!pip install -q --upgrade tensorflow-datasets"
      ],
      "execution_count": 1,
      "outputs": []
    },
    {
      "cell_type": "code",
      "metadata": {
        "id": "n3oYt3R6Nr9l"
      },
      "source": [
        "from typing import Dict, Text\n",
        "\n",
        "import numpy as np\n",
        "import tensorflow as tf\n",
        "import pandas as pd\n",
        "\n",
        "import tensorflow_recommenders as tfrs"
      ],
      "execution_count": 2,
      "outputs": []
    },
    {
      "cell_type": "code",
      "metadata": {
        "id": "yu5KqPuxU0pc"
      },
      "source": [
        "url = 'https://raw.githubusercontent.com/simecek/dspracticum2020/5990195ac6f7c78c1a4d944e70b28a42b96b3ec3/lecture_09/assignment/fake_v1_100x252.csv'\n",
        "a = pd.read_csv(url)\n"
      ],
      "execution_count": 3,
      "outputs": []
    },
    {
      "cell_type": "markdown",
      "metadata": {
        "id": "zCxQ1CZcO2wh"
      },
      "source": [
        "### Read the data"
      ]
    },
    {
      "cell_type": "markdown",
      "metadata": {
        "id": "a2PUpVxwmvis"
      },
      "source": [
        "data preprocessing"
      ]
    },
    {
      "cell_type": "code",
      "metadata": {
        "id": "xfnPSXmY890S",
        "outputId": "0c5eb002-dc49-451f-a618-658d062a2b13",
        "colab": {
          "base_uri": "https://localhost:8080/"
        }
      },
      "source": [
        "#reshape data into usable format\n",
        "a.rename(columns={ a.columns[0]: \"user_ID\" }, inplace = True)\n",
        "\n",
        "# prepare rating per use data\n",
        "ratings = pd.melt(a, id_vars='user_ID')\n",
        "ratings.rename(columns={ratings.columns[1]: \"tweet\" }, inplace = True)\n",
        "ratings.rename(columns={ratings.columns[2]: \"rating\" }, inplace = True)\n",
        "ratings = ratings[ratings['rating'].notna()] # clear rating data so that they contain only rated tweets per user\n",
        "ratings = ratings.reset_index(drop=True)\n",
        "\n",
        "#prepare average rating per tweet\n",
        "tweets = a.drop(columns=[\"user_ID\"])\n",
        "tweets = pd.DataFrame(tweets.mean(axis=0))\n",
        "tweets.reset_index(level=0, inplace=True)\n",
        "tweets.rename(columns={tweets.columns[0]: \"tweet\" }, inplace = True)\n",
        "tweets.rename(columns={tweets.columns[1]: \"avr_rating\" }, inplace = True)\n",
        "tweets = tweets.sort_values(by = \"avr_rating\", ascending = False)\n",
        "tweets = tweets.reset_index(drop=True)\n",
        "\n",
        "\n",
        "#check numbers of user and indexses\n",
        "\n",
        "num_tweets_rat = ratings.tweet.nunique()\n",
        "num_users = ratings.user_ID.nunique()\n",
        "num_tweets = tweets.tweet.nunique()\n",
        "\n",
        "\n",
        "print(\"USERS: {} TOTAL TWEETS: {} RATED TWEETS: {}\".format(num_users, num_tweets, num_tweets_rat))"
      ],
      "execution_count": 4,
      "outputs": [
        {
          "output_type": "stream",
          "text": [
            "USERS: 100 TOTAL TWEETS: 252 RATED TWEETS: 252\n"
          ],
          "name": "stdout"
        }
      ]
    },
    {
      "cell_type": "code",
      "metadata": {
        "id": "go1HOyeENpmK"
      },
      "source": [
        "import tempfile\n",
        "# turn dataframe into tensorflow object\n",
        "ratings = tf.data.Dataset.from_tensor_slices(dict(ratings))\n",
        "tweets = tf.data.Dataset.from_tensor_slices(dict(tweets))\n",
        "\n",
        "# Select the basic features.\n",
        "ratings = ratings.map(lambda x: {\n",
        "    \"tweet\": x[\"tweet\"],\n",
        "    \"user_id\": x[\"user_ID\"],\n",
        "    \"rating\": x[\"rating\"]\n",
        "  })\n",
        "\n",
        "tweets = tweets.map(lambda x: x[\"tweet\"])\n"
      ],
      "execution_count": 5,
      "outputs": []
    },
    {
      "cell_type": "code",
      "metadata": {
        "id": "kKt0mHy-uoGL"
      },
      "source": [
        "#Randomly shuffle data and split between train and test.\n",
        "tf.random.set_seed(42)\n",
        "shuffled = ratings.shuffle(100_000, seed=42, reshuffle_each_iteration=False)\n",
        "\n",
        "train = shuffled.take(80_000)\n",
        "test = shuffled.skip(80_000).take(20_000)"
      ],
      "execution_count": 6,
      "outputs": []
    },
    {
      "cell_type": "code",
      "metadata": {
        "id": "CxjpJUS9KGEb"
      },
      "source": [
        "user_ids_vocabulary = tf.keras.layers.experimental.preprocessing.StringLookup(mask_token=None)\n",
        "user_ids_vocabulary.adapt(ratings.map(lambda x: x[\"user_id\"]))\n",
        "\n",
        "tweets_vocabulary = tf.keras.layers.experimental.preprocessing.StringLookup(mask_token=None)\n",
        "tweets_vocabulary.adapt(tweets)"
      ],
      "execution_count": 7,
      "outputs": []
    },
    {
      "cell_type": "markdown",
      "metadata": {
        "id": "8zO7j3gXmmtJ"
      },
      "source": [
        "## Define a model\n"
      ]
    },
    {
      "cell_type": "markdown",
      "metadata": {
        "id": "2T_pcwOc_Dab"
      },
      "source": [
        "We can define a TFRS model by inheriting from tfrs.Model and implementing the compute_loss method:"
      ]
    },
    {
      "cell_type": "code",
      "metadata": {
        "id": "ywhGMWPycUuo"
      },
      "source": [
        "class TweetLensModel(tfrs.Model):\n",
        "  # We derive from a custom base class to help reduce boilerplate. Under the hood,\n",
        "  # these are still plain Keras Models.\n",
        "\n",
        "  def __init__(\n",
        "      self,\n",
        "      user_model: tf.keras.Model,\n",
        "      tweet_model: tf.keras.Model,\n",
        "      task: tfrs.tasks.Retrieval):\n",
        "    super().__init__()\n",
        "\n",
        "    # Set up user and tweet representations.\n",
        "    self.user_model = user_model\n",
        "    self.tweet_model = tweet_model\n",
        "\n",
        "    # Set up a retrieval task.\n",
        "    self.task = task\n",
        "\n",
        "  def compute_loss(self, features: Dict[Text, tf.Tensor], training=False) -> tf.Tensor:\n",
        "    # Define how the loss is computed.\n",
        "\n",
        "    user_embeddings = self.user_model(features[\"user_id\"])\n",
        "    tweet_embeddings = self.tweet_model(features[\"tweet\"])\n",
        "\n",
        "    return self.task(user_embeddings, tweet_embeddings, compute_metrics=not training)"
      ],
      "execution_count": 8,
      "outputs": []
    },
    {
      "cell_type": "markdown",
      "metadata": {
        "id": "wdwtgUCEOI8y"
      },
      "source": [
        "Define the two models and the retrieval task."
      ]
    },
    {
      "cell_type": "code",
      "metadata": {
        "id": "sq7RWQqj8wT-"
      },
      "source": [
        "# Define user and movie models.\n",
        "user_model = tf.keras.Sequential([\n",
        "    user_ids_vocabulary,\n",
        "    tf.keras.layers.Embedding(user_ids_vocabulary.vocab_size(), 32)\n",
        "])\n",
        "tweet_model = tf.keras.Sequential([\n",
        "    tweets_vocabulary,\n",
        "    tf.keras.layers.Embedding(tweets_vocabulary.vocab_size(), 32)\n",
        "])\n",
        "\n",
        "# Define your objectives.\n",
        "task = tfrs.tasks.Retrieval(metrics=tfrs.metrics.FactorizedTopK(\n",
        "    candidates = tweets.batch(128).cache().map(tweet_model)\n",
        "  )\n",
        ")"
      ],
      "execution_count": 9,
      "outputs": []
    },
    {
      "cell_type": "markdown",
      "metadata": {
        "id": "BMV0HpzmJGWk"
      },
      "source": [
        "\n",
        "### Fit and evaluate it.\n",
        "\n",
        "Create the model, train it, and generate predictions:\n",
        "\n"
      ]
    },
    {
      "cell_type": "code",
      "metadata": {
        "id": "H2tQDhqkOKf1",
        "outputId": "30325ce3-1d95-4a6e-b76c-e68c5cc4a472",
        "colab": {
          "base_uri": "https://localhost:8080/"
        }
      },
      "source": [
        "# Create a retrieval model.\n",
        "model = TweetLensModel(user_model, tweet_model,task)\n",
        "model.compile(optimizer=tf.keras.optimizers.Adagrad(0.1))\n",
        "\n",
        "cached_train = train.shuffle(100_000).batch(3000).cache()\n",
        "\n",
        "# Train for 3 epochs.\n",
        "model.fit(cached_train, epochs=8)"
      ],
      "execution_count": 11,
      "outputs": [
        {
          "output_type": "stream",
          "text": [
            "Epoch 1/8\n",
            "WARNING:tensorflow:The dtype of the source tensor must be floating (e.g. tf.float32) when calling GradientTape.gradient, got tf.int32\n",
            "WARNING:tensorflow:Gradients do not exist for variables ['counter:0'] when minimizing the loss.\n",
            "WARNING:tensorflow:The dtype of the source tensor must be floating (e.g. tf.float32) when calling GradientTape.gradient, got tf.int32\n",
            "WARNING:tensorflow:Gradients do not exist for variables ['counter:0'] when minimizing the loss.\n",
            "2/2 [==============================] - 0s 7ms/step - factorized_top_k/top_1_categorical_accuracy: 0.0000e+00 - factorized_top_k/top_5_categorical_accuracy: 0.0000e+00 - factorized_top_k/top_10_categorical_accuracy: 0.0000e+00 - factorized_top_k/top_50_categorical_accuracy: 0.0000e+00 - factorized_top_k/top_100_categorical_accuracy: 0.0000e+00 - loss: 18143.4049 - regularization_loss: 0.0000e+00 - total_loss: 18143.4049\n",
            "Epoch 2/8\n",
            "2/2 [==============================] - 0s 5ms/step - factorized_top_k/top_1_categorical_accuracy: 0.0000e+00 - factorized_top_k/top_5_categorical_accuracy: 0.0000e+00 - factorized_top_k/top_10_categorical_accuracy: 0.0000e+00 - factorized_top_k/top_50_categorical_accuracy: 0.0000e+00 - factorized_top_k/top_100_categorical_accuracy: 0.0000e+00 - loss: 18091.0840 - regularization_loss: 0.0000e+00 - total_loss: 18091.0840\n",
            "Epoch 3/8\n",
            "2/2 [==============================] - 0s 5ms/step - factorized_top_k/top_1_categorical_accuracy: 0.0000e+00 - factorized_top_k/top_5_categorical_accuracy: 0.0000e+00 - factorized_top_k/top_10_categorical_accuracy: 0.0000e+00 - factorized_top_k/top_50_categorical_accuracy: 0.0000e+00 - factorized_top_k/top_100_categorical_accuracy: 0.0000e+00 - loss: 17860.2493 - regularization_loss: 0.0000e+00 - total_loss: 17860.2493\n",
            "Epoch 4/8\n",
            "2/2 [==============================] - 0s 5ms/step - factorized_top_k/top_1_categorical_accuracy: 0.0000e+00 - factorized_top_k/top_5_categorical_accuracy: 0.0000e+00 - factorized_top_k/top_10_categorical_accuracy: 0.0000e+00 - factorized_top_k/top_50_categorical_accuracy: 0.0000e+00 - factorized_top_k/top_100_categorical_accuracy: 0.0000e+00 - loss: 17473.3320 - regularization_loss: 0.0000e+00 - total_loss: 17473.3320\n",
            "Epoch 5/8\n",
            "2/2 [==============================] - 0s 5ms/step - factorized_top_k/top_1_categorical_accuracy: 0.0000e+00 - factorized_top_k/top_5_categorical_accuracy: 0.0000e+00 - factorized_top_k/top_10_categorical_accuracy: 0.0000e+00 - factorized_top_k/top_50_categorical_accuracy: 0.0000e+00 - factorized_top_k/top_100_categorical_accuracy: 0.0000e+00 - loss: 17105.6400 - regularization_loss: 0.0000e+00 - total_loss: 17105.6400\n",
            "Epoch 6/8\n",
            "2/2 [==============================] - 0s 5ms/step - factorized_top_k/top_1_categorical_accuracy: 0.0000e+00 - factorized_top_k/top_5_categorical_accuracy: 0.0000e+00 - factorized_top_k/top_10_categorical_accuracy: 0.0000e+00 - factorized_top_k/top_50_categorical_accuracy: 0.0000e+00 - factorized_top_k/top_100_categorical_accuracy: 0.0000e+00 - loss: 16819.9199 - regularization_loss: 0.0000e+00 - total_loss: 16819.9199\n",
            "Epoch 7/8\n",
            "2/2 [==============================] - 0s 4ms/step - factorized_top_k/top_1_categorical_accuracy: 0.0000e+00 - factorized_top_k/top_5_categorical_accuracy: 0.0000e+00 - factorized_top_k/top_10_categorical_accuracy: 0.0000e+00 - factorized_top_k/top_50_categorical_accuracy: 0.0000e+00 - factorized_top_k/top_100_categorical_accuracy: 0.0000e+00 - loss: 16603.1035 - regularization_loss: 0.0000e+00 - total_loss: 16603.1035\n",
            "Epoch 8/8\n",
            "2/2 [==============================] - 0s 4ms/step - factorized_top_k/top_1_categorical_accuracy: 0.0000e+00 - factorized_top_k/top_5_categorical_accuracy: 0.0000e+00 - factorized_top_k/top_10_categorical_accuracy: 0.0000e+00 - factorized_top_k/top_50_categorical_accuracy: 0.0000e+00 - factorized_top_k/top_100_categorical_accuracy: 0.0000e+00 - loss: 16434.6602 - regularization_loss: 0.0000e+00 - total_loss: 16434.6602\n"
          ],
          "name": "stdout"
        },
        {
          "output_type": "execute_result",
          "data": {
            "text/plain": [
              "<tensorflow.python.keras.callbacks.History at 0x7fc6c02a3860>"
            ]
          },
          "metadata": {
            "tags": []
          },
          "execution_count": 11
        }
      ]
    },
    {
      "cell_type": "code",
      "metadata": {
        "id": "E3FZcASuBTeZ"
      },
      "source": [
        "#cached_test = test.shuffle(100_000).cache()\n",
        "\n",
        "#model.evaluate(test.batch(4096), return_dict=True)"
      ],
      "execution_count": 12,
      "outputs": []
    },
    {
      "cell_type": "code",
      "metadata": {
        "id": "lHyzPvEKFoUy",
        "outputId": "31ff2811-1c93-42db-96d1-a850cb483dc0",
        "colab": {
          "base_uri": "https://localhost:8080/"
        }
      },
      "source": [
        "model.evaluate(ratings.batch(5000), return_dict=True)"
      ],
      "execution_count": 13,
      "outputs": [
        {
          "output_type": "stream",
          "text": [
            "1/1 [==============================] - 0s 2ms/step - factorized_top_k/top_1_categorical_accuracy: 0.0138 - factorized_top_k/top_5_categorical_accuracy: 0.0944 - factorized_top_k/top_10_categorical_accuracy: 0.1906 - factorized_top_k/top_50_categorical_accuracy: 0.7610 - factorized_top_k/top_100_categorical_accuracy: 0.9496 - loss: 38468.3672 - regularization_loss: 0.0000e+00 - total_loss: 38468.3672\n"
          ],
          "name": "stdout"
        },
        {
          "output_type": "execute_result",
          "data": {
            "text/plain": [
              "{'factorized_top_k/top_100_categorical_accuracy': 0.9495999813079834,\n",
              " 'factorized_top_k/top_10_categorical_accuracy': 0.19059999287128448,\n",
              " 'factorized_top_k/top_1_categorical_accuracy': 0.013799999840557575,\n",
              " 'factorized_top_k/top_50_categorical_accuracy': 0.7609999775886536,\n",
              " 'factorized_top_k/top_5_categorical_accuracy': 0.09440000355243683,\n",
              " 'loss': 38468.3671875,\n",
              " 'regularization_loss': 0,\n",
              " 'total_loss': 38468.3671875}"
            ]
          },
          "metadata": {
            "tags": []
          },
          "execution_count": 13
        }
      ]
    },
    {
      "cell_type": "code",
      "metadata": {
        "id": "F5nW_gOCzwYm",
        "outputId": "c33134db-9595-45c8-ec18-147994006031",
        "colab": {
          "base_uri": "https://localhost:8080/"
        }
      },
      "source": [
        "# Use brute-force search to set up retrieval using the trained representations.\n",
        "index = tfrs.layers.factorized_top_k.BruteForce(model.user_model)\n",
        "index.index(tweets.batch(100).map(model.tweet_model), tweets)\n",
        "\n",
        "# Get some recommendations.\n",
        "_, titles = index(tf.constant([\"42\"]))\n",
        "print(f\"Top 3 recommendations for user 42: {titles[0, :3]}\")"
      ],
      "execution_count": 14,
      "outputs": [
        {
          "output_type": "stream",
          "text": [
            "Top 3 recommendations for user 42: [b'tweet157' b'tweet68' b'tweet110']\n"
          ],
          "name": "stdout"
        }
      ]
    },
    {
      "cell_type": "code",
      "metadata": {
        "id": "Yw4cvbqu73vO"
      },
      "source": [
        ""
      ],
      "execution_count": null,
      "outputs": []
    }
  ]
}