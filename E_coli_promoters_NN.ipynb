{
  "nbformat": 4,
  "nbformat_minor": 0,
  "metadata": {
    "colab": {
      "name": "Copy of SimpleGenomicNN.ipynb",
      "provenance": [],
      "collapsed_sections": [],
      "include_colab_link": true
    },
    "kernelspec": {
      "name": "python3",
      "display_name": "Python 3"
    },
    "accelerator": "GPU"
  },
  "cells": [
    {
      "cell_type": "markdown",
      "metadata": {
        "id": "view-in-github",
        "colab_type": "text"
      },
      "source": [
        "<a href=\"https://colab.research.google.com/github/PetraB42/DSpracticum2020/blob/main/E_coli_promoters_NN.ipynb\" target=\"_parent\"><img src=\"https://colab.research.google.com/assets/colab-badge.svg\" alt=\"Open In Colab\"/></a>"
      ]
    },
    {
      "cell_type": "markdown",
      "metadata": {
        "id": "HY8XHFTZg4X2"
      },
      "source": [
        "## Setup"
      ]
    },
    {
      "cell_type": "code",
      "metadata": {
        "id": "pQf-lv2qMxC-",
        "colab": {
          "base_uri": "https://localhost:8080/"
        },
        "outputId": "f1e1ab36-0875-4de8-c3c3-a9b77d7f4c4a"
      },
      "source": [
        "!pip install biopython"
      ],
      "execution_count": null,
      "outputs": [
        {
          "output_type": "stream",
          "text": [
            "Requirement already satisfied: biopython in /usr/local/lib/python3.6/dist-packages (1.78)\n",
            "Requirement already satisfied: numpy in /usr/local/lib/python3.6/dist-packages (from biopython) (1.18.5)\n"
          ],
          "name": "stdout"
        }
      ]
    },
    {
      "cell_type": "code",
      "metadata": {
        "id": "0xTRv9r1JkcV"
      },
      "source": [
        "import urllib.request\n",
        "from pathlib import Path\n",
        "from Bio import SeqIO\n",
        "import numpy as np\n",
        "\n",
        "import tensorflow as tf\n",
        "from tensorflow import keras\n",
        "from tensorflow.keras.layers.experimental.preprocessing import TextVectorization"
      ],
      "execution_count": null,
      "outputs": []
    },
    {
      "cell_type": "markdown",
      "metadata": {
        "id": "KQDZyunCg8xk"
      },
      "source": [
        "## Reshaping data from fasta to txt"
      ]
    },
    {
      "cell_type": "code",
      "metadata": {
        "id": "FuQYtHAVJ3wa"
      },
      "source": [
        "classes = ['nonpromoters', 'promoters']\n",
        "sets = ['train', 'valid']\n",
        "\n",
        "for c in classes:\n",
        "    for s in sets:\n",
        "        urllib.request.urlretrieve(f\"https://raw.githubusercontent.com/simecek/dspracticum2020/master/lecture_08/assignment/e_coli_promoters/e_coli_{c}_{s}.fa\", f\"e_coli_{c}_{s}.fa\")"
      ],
      "execution_count": null,
      "outputs": []
    },
    {
      "cell_type": "code",
      "metadata": {
        "id": "uDYvcC64KBQo"
      },
      "source": [
        "for c in classes:\n",
        "    for s in sets:\n",
        "        Path(f\"data/{s}/{c}\").mkdir(parents=True, exist_ok=True)"
      ],
      "execution_count": null,
      "outputs": []
    },
    {
      "cell_type": "code",
      "metadata": {
        "id": "-XVwjaUVKvnU"
      },
      "source": [
        "for c in classes:\n",
        "    for s in sets:\n",
        "        with open(f\"e_coli_{c}_{s}.fa\", \"r\") as fr:\n",
        "            for record in SeqIO.parse(fr, \"fasta\"):\n",
        "                id = record.id\n",
        "                with open(f\"data/{s}/{c}/{id}.txt\", \"w\") as fw:\n",
        "                    fw.writelines([\" \".join(str(record.seq))])\n"
      ],
      "execution_count": null,
      "outputs": []
    },
    {
      "cell_type": "markdown",
      "metadata": {
        "id": "jwWqL9UVhHRp"
      },
      "source": [
        "## Reading data"
      ]
    },
    {
      "cell_type": "code",
      "metadata": {
        "id": "0QhJiddxQjnh",
        "colab": {
          "base_uri": "https://localhost:8080/"
        },
        "outputId": "3ed92e52-fbf9-4cd5-86be-d56f3e77852c"
      },
      "source": [
        "batch_size = 128\n",
        "\n",
        "raw_train_ds = tf.keras.preprocessing.text_dataset_from_directory(\n",
        "    'data/train/',\n",
        "    batch_size=batch_size,\n",
        "    class_names=classes)"
      ],
      "execution_count": null,
      "outputs": [
        {
          "output_type": "stream",
          "text": [
            "Found 6791 files belonging to 2 classes.\n"
          ],
          "name": "stdout"
        }
      ]
    },
    {
      "cell_type": "code",
      "metadata": {
        "colab": {
          "base_uri": "https://localhost:8080/"
        },
        "id": "JQ15xyPEgIkd",
        "outputId": "a58726e5-bca1-4a41-9d6c-5f31ef8352fc"
      },
      "source": [
        "raw_valid_ds = tf.keras.preprocessing.text_dataset_from_directory(\n",
        "    'data/valid/',\n",
        "    batch_size=batch_size,\n",
        "    class_names=classes)"
      ],
      "execution_count": null,
      "outputs": [
        {
          "output_type": "stream",
          "text": [
            "Found 750 files belonging to 2 classes.\n"
          ],
          "name": "stdout"
        }
      ]
    },
    {
      "cell_type": "code",
      "metadata": {
        "id": "krNrCcl-Q2JH"
      },
      "source": [
        "vectorize_layer = TextVectorization(output_mode='int')\n",
        "\n",
        "train_text = raw_train_ds.map(lambda x, y: x)\n",
        "vectorize_layer.adapt(train_text)\n",
        "vectorize_layer.set_vocabulary(vocab=np.asarray(['a', 'c', 't', 'g', 'n']))"
      ],
      "execution_count": null,
      "outputs": []
    },
    {
      "cell_type": "code",
      "metadata": {
        "id": "MlJsjlxlSJ8a"
      },
      "source": [
        "def vectorize_text(text, label):\n",
        "  text = tf.expand_dims(text, -1)\n",
        "  return vectorize_layer(text)-2, label\n",
        "\n",
        "train_ds = raw_train_ds.map(vectorize_text)\n",
        "valid_ds = raw_valid_ds.map(vectorize_text)"
      ],
      "execution_count": null,
      "outputs": []
    },
    {
      "cell_type": "code",
      "metadata": {
        "id": "ii0we2naZLtV"
      },
      "source": [
        ""
      ],
      "execution_count": null,
      "outputs": []
    },
    {
      "cell_type": "markdown",
      "metadata": {
        "id": "eMEDEoL_h5RD"
      },
      "source": [
        "## Model training"
      ]
    },
    {
      "cell_type": "code",
      "metadata": {
        "id": "m5P0A9wVbQl2"
      },
      "source": [
        "# one-hot encoding\n",
        "onehot_layer = keras.layers.Lambda(lambda x: tf.one_hot(tf.cast(x,'int64'), 4))"
      ],
      "execution_count": null,
      "outputs": []
    },
    {
      "cell_type": "code",
      "metadata": {
        "id": "o4ROY6c-gCkJ"
      },
      "source": [
        "# best accuracy of model_lstm fitting:\n",
        "\n",
        "#model_lstm = tf.keras.Sequential([\n",
        "    #keras.layers.Embedding(batch_size, 150, input_length = 150),\n",
        "    #keras.layers.LSTM(128, return_sequences= True),\n",
        "    #keras.layers.Bidirectional(tf.keras.layers.GRU(32)),\n",
        "    #keras.layers.Dense(1, activation=\"sigmoid\")]) \n",
        "\n",
        "#model_lstm.compile(loss='binary_crossentropy', optimizer='adam', metrics=['accuracy'])\n",
        "\n",
        "\n",
        "# best final accuracy:\n",
        "\n",
        "model_lstm = tf.keras.Sequential([\n",
        "    keras.layers.Embedding(batch_size, 150, input_length = 150),\n",
        "    keras.layers.LSTM(128, return_sequences= True),\n",
        "    keras.layers.LSTM(128, return_sequences= False),\n",
        "    keras.layers.Dense(2, activation=\"tanh\")]) \n",
        "\n",
        "model_lstm.compile(loss='binary_crossentropy', optimizer='adam', metrics=['accuracy'])\n"
      ],
      "execution_count": null,
      "outputs": []
    },
    {
      "cell_type": "code",
      "metadata": {
        "id": "V9zwVFetgXIL",
        "colab": {
          "base_uri": "https://localhost:8080/"
        },
        "outputId": "684fed59-6de1-4386-fd81-a2f1bbed9e85"
      },
      "source": [
        "epochs = 10\n",
        "history = model_lstm.fit(\n",
        "    train_ds,\n",
        "    epochs=epochs,\n",
        "    validation_data = valid_ds)"
      ],
      "execution_count": null,
      "outputs": [
        {
          "output_type": "stream",
          "text": [
            "Epoch 1/10\n",
            "54/54 [==============================] - 4s 69ms/step - loss: 0.8422 - accuracy: 0.4899 - val_loss: 0.6901 - val_accuracy: 0.4613\n",
            "Epoch 2/10\n",
            "54/54 [==============================] - 3s 56ms/step - loss: 0.6880 - accuracy: 0.4669 - val_loss: 0.6982 - val_accuracy: 0.4453\n",
            "Epoch 3/10\n",
            "54/54 [==============================] - 3s 54ms/step - loss: 0.6824 - accuracy: 0.4912 - val_loss: 0.8650 - val_accuracy: 0.4067\n",
            "Epoch 4/10\n",
            "54/54 [==============================] - 3s 54ms/step - loss: 0.6724 - accuracy: 0.5158 - val_loss: 0.5277 - val_accuracy: 0.6920\n",
            "Epoch 5/10\n",
            "54/54 [==============================] - 3s 54ms/step - loss: 0.5613 - accuracy: 0.4705 - val_loss: 0.5707 - val_accuracy: 0.5000\n",
            "Epoch 6/10\n",
            "54/54 [==============================] - 3s 55ms/step - loss: 0.5149 - accuracy: 0.5306 - val_loss: 0.4872 - val_accuracy: 0.4013\n",
            "Epoch 7/10\n",
            "54/54 [==============================] - 3s 56ms/step - loss: 0.4749 - accuracy: 0.4583 - val_loss: 0.4714 - val_accuracy: 0.5133\n",
            "Epoch 8/10\n",
            "54/54 [==============================] - 3s 55ms/step - loss: 0.4662 - accuracy: 0.4985 - val_loss: 0.4483 - val_accuracy: 0.5907\n",
            "Epoch 9/10\n",
            "54/54 [==============================] - 3s 53ms/step - loss: 0.5455 - accuracy: 0.4970 - val_loss: 0.6484 - val_accuracy: 0.6000\n",
            "Epoch 10/10\n",
            "54/54 [==============================] - 3s 54ms/step - loss: 0.5342 - accuracy: 0.6196 - val_loss: 0.4796 - val_accuracy: 0.4533\n"
          ],
          "name": "stdout"
        }
      ]
    },
    {
      "cell_type": "code",
      "metadata": {
        "id": "qWEUcqBXcecr"
      },
      "source": [
        "model_cnn = tf.keras.Sequential([\n",
        "    onehot_layer,\n",
        "    keras.layers.Conv1D(32, kernel_size=6, data_format='channels_last', activation='relu'),\n",
        "    keras.layers.BatchNormalization(),\n",
        "    keras.layers.MaxPooling1D(),\n",
        "    keras.layers.Conv1D(16, kernel_size=6, data_format='channels_last', activation='relu'),\n",
        "    keras.layers.BatchNormalization(),\n",
        "    keras.layers.MaxPooling1D(),\n",
        "    keras.layers.Conv1D(4, kernel_size=6, data_format='channels_last', activation='relu'),\n",
        "    keras.layers.BatchNormalization(),\n",
        "    keras.layers.MaxPooling1D(),\n",
        "    keras.layers.Dropout(0.3),\n",
        "    keras.layers.GlobalAveragePooling1D(),\n",
        "    keras.layers.Dense(1, activation=\"sigmoid\")\n",
        "])\n",
        "\n",
        "model_cnn.compile(loss='binary_crossentropy', optimizer='adam', metrics=['accuracy'])"
      ],
      "execution_count": null,
      "outputs": []
    },
    {
      "cell_type": "code",
      "metadata": {
        "id": "J86X_OH-dUV2",
        "colab": {
          "base_uri": "https://localhost:8080/"
        },
        "outputId": "521d3249-5992-4019-f146-c524f93d0d56"
      },
      "source": [
        "epochs = 10\n",
        "\n",
        "history = model_cnn.fit(\n",
        "    train_ds,\n",
        "    epochs=epochs,\n",
        "    validation_data = valid_ds)"
      ],
      "execution_count": null,
      "outputs": [
        {
          "output_type": "stream",
          "text": [
            "Epoch 1/10\n",
            "54/54 [==============================] - 2s 34ms/step - loss: 0.5498 - accuracy: 0.7271 - val_loss: 0.6322 - val_accuracy: 0.7693\n",
            "Epoch 2/10\n",
            "54/54 [==============================] - 2s 31ms/step - loss: 0.4819 - accuracy: 0.7894 - val_loss: 0.6212 - val_accuracy: 0.6213\n",
            "Epoch 3/10\n",
            "54/54 [==============================] - 2s 32ms/step - loss: 0.4355 - accuracy: 0.8177 - val_loss: 0.5885 - val_accuracy: 0.7067\n",
            "Epoch 4/10\n",
            "54/54 [==============================] - 2s 32ms/step - loss: 0.3823 - accuracy: 0.8513 - val_loss: 0.5432 - val_accuracy: 0.8080\n",
            "Epoch 5/10\n",
            "54/54 [==============================] - 2s 32ms/step - loss: 0.3469 - accuracy: 0.8681 - val_loss: 0.4909 - val_accuracy: 0.8427\n",
            "Epoch 6/10\n",
            "54/54 [==============================] - 2s 32ms/step - loss: 0.3052 - accuracy: 0.8901 - val_loss: 0.4560 - val_accuracy: 0.8440\n",
            "Epoch 7/10\n",
            "54/54 [==============================] - 2s 32ms/step - loss: 0.2836 - accuracy: 0.8974 - val_loss: 0.3945 - val_accuracy: 0.8773\n",
            "Epoch 8/10\n",
            "54/54 [==============================] - 2s 31ms/step - loss: 0.2585 - accuracy: 0.9050 - val_loss: 0.3556 - val_accuracy: 0.8907\n",
            "Epoch 9/10\n",
            "54/54 [==============================] - 2s 32ms/step - loss: 0.2444 - accuracy: 0.9099 - val_loss: 0.3108 - val_accuracy: 0.9107\n",
            "Epoch 10/10\n",
            "54/54 [==============================] - 2s 31ms/step - loss: 0.2320 - accuracy: 0.9169 - val_loss: 0.2885 - val_accuracy: 0.8933\n"
          ],
          "name": "stdout"
        }
      ]
    },
    {
      "cell_type": "code",
      "metadata": {
        "id": "i1QTC20Dg46l"
      },
      "source": [
        ""
      ],
      "execution_count": null,
      "outputs": []
    }
  ]
}