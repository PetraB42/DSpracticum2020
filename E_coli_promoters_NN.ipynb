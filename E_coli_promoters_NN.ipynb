{
  "nbformat": 4,
  "nbformat_minor": 0,
  "metadata": {
    "colab": {
      "name": "Copy of Copy of SimpleGenomicNN.ipynb",
      "provenance": [],
      "collapsed_sections": [],
      "include_colab_link": true
    },
    "kernelspec": {
      "name": "python3",
      "display_name": "Python 3"
    },
    "accelerator": "GPU"
  },
  "cells": [
    {
      "cell_type": "markdown",
      "metadata": {
        "id": "view-in-github",
        "colab_type": "text"
      },
      "source": [
        "<a href=\"https://colab.research.google.com/github/PetraB42/DSpracticum2020/blob/main/E_coli_promoters_NN.ipynb\" target=\"_parent\"><img src=\"https://colab.research.google.com/assets/colab-badge.svg\" alt=\"Open In Colab\"/></a>"
      ]
    },
    {
      "cell_type": "markdown",
      "metadata": {
        "id": "HY8XHFTZg4X2"
      },
      "source": [
        "## Setup"
      ]
    },
    {
      "cell_type": "code",
      "metadata": {
        "id": "pQf-lv2qMxC-",
        "colab": {
          "base_uri": "https://localhost:8080/"
        },
        "outputId": "d26740e9-8d46-4f6d-d89c-4d86c783efb7"
      },
      "source": [
        "!pip install biopython"
      ],
      "execution_count": null,
      "outputs": [
        {
          "output_type": "stream",
          "text": [
            "Requirement already satisfied: biopython in /usr/local/lib/python3.6/dist-packages (1.78)\n",
            "Requirement already satisfied: numpy in /usr/local/lib/python3.6/dist-packages (from biopython) (1.18.5)\n"
          ],
          "name": "stdout"
        }
      ]
    },
    {
      "cell_type": "code",
      "metadata": {
        "id": "0xTRv9r1JkcV"
      },
      "source": [
        "import urllib.request\n",
        "from pathlib import Path\n",
        "from Bio import SeqIO\n",
        "import numpy as np\n",
        "\n",
        "import tensorflow as tf\n",
        "from tensorflow import keras\n",
        "from tensorflow.keras.layers.experimental.preprocessing import TextVectorization"
      ],
      "execution_count": null,
      "outputs": []
    },
    {
      "cell_type": "markdown",
      "metadata": {
        "id": "KQDZyunCg8xk"
      },
      "source": [
        "## Reshaping data from fasta to txt"
      ]
    },
    {
      "cell_type": "code",
      "metadata": {
        "id": "FuQYtHAVJ3wa"
      },
      "source": [
        "classes = ['nonpromoters', 'promoters']\n",
        "sets = ['train', 'valid']\n",
        "\n",
        "for c in classes:\n",
        "    for s in sets:\n",
        "        urllib.request.urlretrieve(f\"https://raw.githubusercontent.com/simecek/dspracticum2020/master/lecture_08/assignment/e_coli_promoters/e_coli_{c}_{s}.fa\", f\"e_coli_{c}_{s}.fa\")"
      ],
      "execution_count": null,
      "outputs": []
    },
    {
      "cell_type": "code",
      "metadata": {
        "id": "uDYvcC64KBQo"
      },
      "source": [
        "for c in classes:\n",
        "    for s in sets:\n",
        "        Path(f\"data/{s}/{c}\").mkdir(parents=True, exist_ok=True)"
      ],
      "execution_count": null,
      "outputs": []
    },
    {
      "cell_type": "code",
      "metadata": {
        "id": "-XVwjaUVKvnU"
      },
      "source": [
        "for c in classes:\n",
        "    for s in sets:\n",
        "        with open(f\"e_coli_{c}_{s}.fa\", \"r\") as fr:\n",
        "            for record in SeqIO.parse(fr, \"fasta\"):\n",
        "                id = record.id\n",
        "                with open(f\"data/{s}/{c}/{id}.txt\", \"w\") as fw:\n",
        "                    fw.writelines([\" \".join(str(record.seq))])\n"
      ],
      "execution_count": null,
      "outputs": []
    },
    {
      "cell_type": "markdown",
      "metadata": {
        "id": "jwWqL9UVhHRp"
      },
      "source": [
        "## Reading data"
      ]
    },
    {
      "cell_type": "code",
      "metadata": {
        "id": "0QhJiddxQjnh",
        "colab": {
          "base_uri": "https://localhost:8080/"
        },
        "outputId": "e79fa75b-d78f-4e1d-af7c-8712c903ff95"
      },
      "source": [
        "batch_size = 128\n",
        "\n",
        "raw_train_ds = tf.keras.preprocessing.text_dataset_from_directory(\n",
        "    'data/train/',\n",
        "    batch_size=batch_size,\n",
        "    class_names=classes)"
      ],
      "execution_count": null,
      "outputs": [
        {
          "output_type": "stream",
          "text": [
            "Found 6791 files belonging to 2 classes.\n"
          ],
          "name": "stdout"
        }
      ]
    },
    {
      "cell_type": "code",
      "metadata": {
        "colab": {
          "base_uri": "https://localhost:8080/"
        },
        "id": "JQ15xyPEgIkd",
        "outputId": "e81db509-bf8f-497d-86f3-8418a517f367"
      },
      "source": [
        "raw_valid_ds = tf.keras.preprocessing.text_dataset_from_directory(\n",
        "    'data/valid/',\n",
        "    batch_size=batch_size,\n",
        "    class_names=classes)"
      ],
      "execution_count": null,
      "outputs": [
        {
          "output_type": "stream",
          "text": [
            "Found 750 files belonging to 2 classes.\n"
          ],
          "name": "stdout"
        }
      ]
    },
    {
      "cell_type": "code",
      "metadata": {
        "id": "krNrCcl-Q2JH"
      },
      "source": [
        "vectorize_layer = TextVectorization(output_mode='int')\n",
        "\n",
        "train_text = raw_train_ds.map(lambda x, y: x)\n",
        "vectorize_layer.adapt(train_text)\n",
        "vectorize_layer.set_vocabulary(vocab=np.asarray(['a', 'c', 't', 'g', 'n']))"
      ],
      "execution_count": null,
      "outputs": []
    },
    {
      "cell_type": "code",
      "metadata": {
        "id": "MlJsjlxlSJ8a"
      },
      "source": [
        "def vectorize_text(text, label):\n",
        "  text = tf.expand_dims(text, -1)\n",
        "  return vectorize_layer(text)-2, label\n",
        "\n",
        "train_ds = raw_train_ds.map(vectorize_text)\n",
        "valid_ds = raw_valid_ds.map(vectorize_text)"
      ],
      "execution_count": null,
      "outputs": []
    },
    {
      "cell_type": "code",
      "metadata": {
        "id": "ii0we2naZLtV"
      },
      "source": [
        ""
      ],
      "execution_count": null,
      "outputs": []
    },
    {
      "cell_type": "markdown",
      "metadata": {
        "id": "eMEDEoL_h5RD"
      },
      "source": [
        "## Model training"
      ]
    },
    {
      "cell_type": "code",
      "metadata": {
        "id": "o4ROY6c-gCkJ"
      },
      "source": [
        "model_lstm = tf.keras.Sequential([\n",
        "    keras.layers.Embedding(batch_size, 150, input_length = 150),\n",
        "    keras.layers.LSTM(128, return_sequences= True),\n",
        "    keras.layers.Bidirectional(tf.keras.layers.GRU(32)),\n",
        "    keras.layers.Dense(1, activation=\"sigmoid\")]) \n",
        "\n",
        "model_lstm.compile(loss='binary_crossentropy', optimizer='adam', metrics=['accuracy'])"
      ],
      "execution_count": null,
      "outputs": []
    },
    {
      "cell_type": "code",
      "metadata": {
        "id": "V9zwVFetgXIL",
        "colab": {
          "base_uri": "https://localhost:8080/"
        },
        "outputId": "4edeedb9-e721-4582-ae1c-940423fcdd18"
      },
      "source": [
        "epochs = 10\n",
        "history = model_lstm.fit(\n",
        "    train_ds,\n",
        "    epochs=epochs,\n",
        "    validation_data = valid_ds)"
      ],
      "execution_count": null,
      "outputs": [
        {
          "output_type": "stream",
          "text": [
            "Epoch 1/10\n",
            "54/54 [==============================] - 4s 76ms/step - loss: 0.6418 - accuracy: 0.6155 - val_loss: 0.5252 - val_accuracy: 0.7560\n",
            "Epoch 2/10\n",
            "54/54 [==============================] - 3s 55ms/step - loss: 0.4892 - accuracy: 0.7766 - val_loss: 0.4562 - val_accuracy: 0.7907\n",
            "Epoch 3/10\n",
            "54/54 [==============================] - 3s 53ms/step - loss: 0.4560 - accuracy: 0.7897 - val_loss: 0.5072 - val_accuracy: 0.7720\n",
            "Epoch 4/10\n",
            "54/54 [==============================] - 3s 56ms/step - loss: 0.4586 - accuracy: 0.7986 - val_loss: 0.4484 - val_accuracy: 0.8000\n",
            "Epoch 5/10\n",
            "54/54 [==============================] - 3s 54ms/step - loss: 0.4238 - accuracy: 0.8127 - val_loss: 0.4385 - val_accuracy: 0.8093\n",
            "Epoch 6/10\n",
            "54/54 [==============================] - 3s 54ms/step - loss: 0.4279 - accuracy: 0.8131 - val_loss: 0.4274 - val_accuracy: 0.8133\n",
            "Epoch 7/10\n",
            "54/54 [==============================] - 3s 54ms/step - loss: 0.4050 - accuracy: 0.8240 - val_loss: 0.3776 - val_accuracy: 0.8360\n",
            "Epoch 8/10\n",
            "54/54 [==============================] - 3s 55ms/step - loss: 0.3825 - accuracy: 0.8323 - val_loss: 0.3614 - val_accuracy: 0.8360\n",
            "Epoch 9/10\n",
            "54/54 [==============================] - 3s 56ms/step - loss: 0.4013 - accuracy: 0.8220 - val_loss: 0.3498 - val_accuracy: 0.8387\n",
            "Epoch 10/10\n",
            "54/54 [==============================] - 3s 55ms/step - loss: 0.3524 - accuracy: 0.8499 - val_loss: 0.3325 - val_accuracy: 0.8613\n"
          ],
          "name": "stdout"
        }
      ]
    },
    {
      "cell_type": "code",
      "metadata": {
        "id": "qWEUcqBXcecr"
      },
      "source": [
        "model_cnn = tf.keras.Sequential([\n",
        "    keras.layers.Embedding(batch_size, 150, input_length = 150),\n",
        "    keras.layers.Conv1D(32, kernel_size=6, data_format='channels_last', activation='tanh'),\n",
        "    keras.layers.BatchNormalization(),\n",
        "    keras.layers.MaxPooling1D(),\n",
        "    keras.layers.Conv1D(16, kernel_size=6, data_format='channels_last', activation='tanh'),\n",
        "    keras.layers.BatchNormalization(),\n",
        "    keras.layers.MaxPooling1D(),\n",
        "    keras.layers.Conv1D(4, kernel_size=6, data_format='channels_last', activation='sigmoid'),\n",
        "    keras.layers.BatchNormalization(),\n",
        "    keras.layers.MaxPooling1D(),\n",
        "    keras.layers.GlobalAveragePooling1D(),\n",
        "    keras.layers.Dense(1, activation=\"sigmoid\")\n",
        "])\n",
        "\n",
        "model_cnn.compile(loss='binary_crossentropy', optimizer='adam', metrics=['accuracy'])"
      ],
      "execution_count": null,
      "outputs": []
    },
    {
      "cell_type": "code",
      "metadata": {
        "id": "J86X_OH-dUV2",
        "colab": {
          "base_uri": "https://localhost:8080/"
        },
        "outputId": "7c5debde-53f0-4606-f75d-87b9186cae54"
      },
      "source": [
        "epochs = 10\n",
        "\n",
        "history = model_cnn.fit(\n",
        "    train_ds,\n",
        "    epochs=epochs,\n",
        "    validation_data = valid_ds)"
      ],
      "execution_count": null,
      "outputs": [
        {
          "output_type": "stream",
          "text": [
            "Epoch 1/10\n",
            "54/54 [==============================] - 2s 44ms/step - loss: 0.5332 - accuracy: 0.7544 - val_loss: 0.6920 - val_accuracy: 0.5000\n",
            "Epoch 2/10\n",
            "54/54 [==============================] - 2s 36ms/step - loss: 0.4721 - accuracy: 0.8149 - val_loss: 0.6825 - val_accuracy: 0.5000\n",
            "Epoch 3/10\n",
            "54/54 [==============================] - 2s 38ms/step - loss: 0.4220 - accuracy: 0.8482 - val_loss: 0.6144 - val_accuracy: 0.7573\n",
            "Epoch 4/10\n",
            "54/54 [==============================] - 2s 37ms/step - loss: 0.3751 - accuracy: 0.8689 - val_loss: 0.5705 - val_accuracy: 0.7573\n",
            "Epoch 5/10\n",
            "54/54 [==============================] - 2s 37ms/step - loss: 0.3309 - accuracy: 0.8919 - val_loss: 0.6122 - val_accuracy: 0.5867\n",
            "Epoch 6/10\n",
            "54/54 [==============================] - 2s 37ms/step - loss: 0.3067 - accuracy: 0.8956 - val_loss: 0.7180 - val_accuracy: 0.5347\n",
            "Epoch 7/10\n",
            "54/54 [==============================] - 2s 37ms/step - loss: 0.2640 - accuracy: 0.9134 - val_loss: 0.6756 - val_accuracy: 0.5867\n",
            "Epoch 8/10\n",
            "54/54 [==============================] - 2s 39ms/step - loss: 0.2470 - accuracy: 0.9209 - val_loss: 0.4014 - val_accuracy: 0.8080\n",
            "Epoch 9/10\n",
            "54/54 [==============================] - 2s 37ms/step - loss: 0.2200 - accuracy: 0.9306 - val_loss: 0.3024 - val_accuracy: 0.8693\n",
            "Epoch 10/10\n",
            "54/54 [==============================] - 2s 39ms/step - loss: 0.2019 - accuracy: 0.9343 - val_loss: 0.2546 - val_accuracy: 0.9053\n"
          ],
          "name": "stdout"
        }
      ]
    },
    {
      "cell_type": "code",
      "metadata": {
        "id": "i1QTC20Dg46l"
      },
      "source": [
        ""
      ],
      "execution_count": null,
      "outputs": []
    }
  ]
}